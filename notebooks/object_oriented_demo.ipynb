{
 "cells": [
  {
   "cell_type": "markdown",
   "metadata": {},
   "source": [
    "# Object-Oriented Demo\n",
    "\n",
    "---\n",
    "\n",
    "Demo for the class-based features of `climpred`."
   ]
  },
  {
   "cell_type": "code",
   "execution_count": 1,
   "metadata": {},
   "outputs": [],
   "source": [
    "import numpy as np\n",
    "import xarray as xr\n",
    "import climpred as cp\n",
    "import matplotlib.pyplot as plt\n",
    "%matplotlib inline\n",
    "import proplot as plot"
   ]
  },
  {
   "cell_type": "markdown",
   "metadata": {},
   "source": [
    "# Reference Ensemble"
   ]
  },
  {
   "cell_type": "markdown",
   "metadata": {},
   "source": [
    "Load in DPLE (initialized ensemble), FOSI (reconstruction that initializes the ensemble), and some SST data.\n",
    "\n",
    "**NOTE**: This demo is just for the ensemble mean of DPLE."
   ]
  },
  {
   "cell_type": "code",
   "execution_count": 2,
   "metadata": {},
   "outputs": [],
   "source": [
    "def _load_dple():\n",
    "    dple = xr.open_dataset('/Users/ribr5703/Desktop/climpred/sample_data/prediction/' +\n",
    "                     'CESM-DP-LE.SST.annmean.anom.nc')['anom']\n",
    "    dple = dple.sel(S=slice(1955, 2015))\n",
    "    dple = dple.mean('M')\n",
    "    dple = dple.rename({'S': 'initialization', 'L': 'time', })\n",
    "    dple.name = 'SST'\n",
    "    return dple\n",
    "\n",
    "def _load_fosi():\n",
    "    fosi = xr.open_dataset('/Users/ribr5703/Desktop/climpred/sample_data/prediction/' +\n",
    "                       'g.e11_LENS.GECOIAF.T62_g16.009.pop.h.SST.024901-031612.nc')['SST']\n",
    "    fosi = fosi.sel(time=slice('1955', '2015'))\n",
    "    fosi = fosi.groupby('time.year').mean('time')\n",
    "    fosi = fosi.rename({'year': 'initialization'})\n",
    "    return fosi\n",
    "\n",
    "def _load_data():\n",
    "    data = xr.open_dataset('/Users/ribr5703/Desktop/climpred/sample_data/prediction/' +\n",
    "                           'ERSSTv4.global.mean.nc')['sst']\n",
    "    data = data.rename({'year': 'initialization'})\n",
    "    data.name = 'SST'\n",
    "    return data\n",
    "\n",
    "dple = _load_dple().to_dataset()\n",
    "fosi = _load_fosi().to_dataset()\n",
    "data = _load_data().to_dataset()"
   ]
  },
  {
   "cell_type": "markdown",
   "metadata": {},
   "source": [
    "There are currently two types of objects (like dataset and dataarray). One is the ReferenceEnsemble, which are ensembles that are initialized off of something like a reconstruction or data. The other is a PerfectModelEnsemble, like MPI's setup."
   ]
  },
  {
   "cell_type": "code",
   "execution_count": 3,
   "metadata": {},
   "outputs": [
    {
     "name": "stdout",
     "output_type": "stream",
     "text": [
      "<climpred.ReferenceEnsemble>\n",
      "Initialized Ensemble:\n",
      "    SST      (initialization, time) float32 -0.20294695 -0.1434082 ... 0.587774\n",
      "References:\n",
      "    None\n"
     ]
    }
   ],
   "source": [
    "dp = cp.ReferenceEnsemble(dple)\n",
    "print(dp)"
   ]
  },
  {
   "cell_type": "markdown",
   "metadata": {},
   "source": [
    "For a `ReferenceEnsemble` type, you can add multiple references. Here, we will add the reconstruction (FOSI) and a dataset (ERSST). Multiple checks go into play here under the hood, ensuring that dimensions are named according to our rules and that references match all initialized dimensions (except for time).\n",
    "\n",
    "We can also have multiple variables per reference and decadal prediction object."
   ]
  },
  {
   "cell_type": "code",
   "execution_count": 4,
   "metadata": {},
   "outputs": [],
   "source": [
    "# dummy/repetitive data to show ability to work with multiple\n",
    "# variables.\n",
    "dple['SALT'] = _load_dple()\n",
    "fosi['SALT'] = ('initialization', np.random.randn(61))\n",
    "data['SALT'] = ('initialization', np.random.randn(61))"
   ]
  },
  {
   "cell_type": "code",
   "execution_count": 5,
   "metadata": {},
   "outputs": [],
   "source": [
    "dp = cp.ReferenceEnsemble(dple)"
   ]
  },
  {
   "cell_type": "code",
   "execution_count": 6,
   "metadata": {},
   "outputs": [
    {
     "name": "stdout",
     "output_type": "stream",
     "text": [
      "Help on method add_reference in module climpred.classes:\n",
      "\n",
      "add_reference(xobj, name) method of climpred.classes.ReferenceEnsemble instance\n",
      "    uninitialized things should all have 'initialization' dimension,\n",
      "    so can stack them here.\n",
      "    \n",
      "    Args:\n",
      "        xobj (xarray object): Dataset/DataArray being appended to the\n",
      "                              `ReferenceEnsemble` object.\n",
      "        name (str): Name of this object (e.g., \"reconstruction\")\n",
      "\n"
     ]
    }
   ],
   "source": [
    "help(dp.add_reference)"
   ]
  },
  {
   "cell_type": "code",
   "execution_count": 7,
   "metadata": {},
   "outputs": [
    {
     "name": "stdout",
     "output_type": "stream",
     "text": [
      "<climpred.ReferenceEnsemble>\n",
      "Initialized Ensemble:\n",
      "    SST      (initialization, time) float32 -0.20294695 -0.1434082 ... 0.587774\n",
      "    SALT     (initialization, time) float32 -0.20294695 -0.1434082 ... 0.587774\n",
      "FOSI:\n",
      "    SST      (initialization) float32 16.255846 16.252129 ... 16.714994\n",
      "    SALT     (initialization) float64 0.516 1.576 0.6248 ... 0.5127 0.1217\n",
      "ERSST:\n",
      "    SST      (initialization) float32 ...\n",
      "    SALT     (initialization) float64 1.178 0.6767 -0.5306 ... 0.6532 1.75\n"
     ]
    }
   ],
   "source": [
    "# This appends data associated with the initialized ensemble.\n",
    "# Now we have a label for the reconstruction (FOSI) and the\n",
    "# raw data (ERSST). One could also add other data sources,\n",
    "# control runs, etc.\n",
    "dp.add_reference(fosi, 'FOSI')\n",
    "dp.add_reference(data, 'ERSST')\n",
    "print(dp)"
   ]
  },
  {
   "cell_type": "markdown",
   "metadata": {},
   "source": [
    "Now we can apply our functions to our `ReferenceEnsemble` object. You can call compute_skill in two different ways:\n",
    "\n",
    "1. Declaring a single reference you want to compute skill with regard to (this returns a single xr.Dataset with skill results for that\n",
    "\n",
    "2. Running compute_skill with no arguments, which computes skill for all available references. This returns a dictionary with each of your reference results."
   ]
  },
  {
   "cell_type": "code",
   "execution_count": 8,
   "metadata": {},
   "outputs": [
    {
     "name": "stdout",
     "output_type": "stream",
     "text": [
      "<xarray.Dataset>\n",
      "Dimensions:  (time: 10)\n",
      "Coordinates:\n",
      "    z_t      float32 500.0\n",
      "  * time     (time) int64 1 2 3 4 5 6 7 8 9 10\n",
      "Data variables:\n",
      "    SST      (time) float32 0.85391504 0.7564817 ... 0.7252849 0.7146723\n",
      "    SALT     (time) float64 0.03728 0.1329 0.1302 ... 0.1825 0.1909 0.1923\n"
     ]
    }
   ],
   "source": [
    "# Here, we only want a skill computation for FOSI.\n",
    "# This automatically compares FOSI to the main initialized\n",
    "# ensemble.\n",
    "skill = dp.compute_skill(refname='FOSI')\n",
    "print(skill)"
   ]
  },
  {
   "cell_type": "code",
   "execution_count": 9,
   "metadata": {},
   "outputs": [
    {
     "data": {
      "text/plain": [
       "<xarray.Dataset>\n",
       "Dimensions:  (time: 10)\n",
       "Coordinates:\n",
       "    z_t      float32 500.0\n",
       "  * time     (time) int64 1 2 3 4 5 6 7 8 9 10\n",
       "Data variables:\n",
       "    SST      (time) float32 16.43859 16.434961 16.439035 ... 16.433886 16.432215\n",
       "    SALT     (time) float64 0.8227 0.8208 0.8108 0.8185 ... 0.782 0.7938 0.8069"
      ]
     },
     "execution_count": 9,
     "metadata": {},
     "output_type": "execute_result"
    }
   ],
   "source": [
    "# Skill computation for FOSI, but with different metric.\n",
    "dp.compute_skill('FOSI', metric='mae')"
   ]
  },
  {
   "cell_type": "code",
   "execution_count": 10,
   "metadata": {},
   "outputs": [
    {
     "name": "stdout",
     "output_type": "stream",
     "text": [
      "{'FOSI': <xarray.Dataset>\n",
      "Dimensions:  (time: 10)\n",
      "Coordinates:\n",
      "    z_t      float32 500.0\n",
      "  * time     (time) int64 1 2 3 4 5 6 7 8 9 10\n",
      "Data variables:\n",
      "    SST      (time) float32 0.85391504 0.7564817 ... 0.7252849 0.7146723\n",
      "    SALT     (time) float64 0.03728 0.1329 0.1302 ... 0.1825 0.1909 0.1923, 'ERSST': <xarray.Dataset>\n",
      "Dimensions:  (time: 10)\n",
      "Coordinates:\n",
      "  * time     (time) int64 1 2 3 4 5 6 7 8 9 10\n",
      "Data variables:\n",
      "    SST      (time) float32 0.92809033 0.8993258 ... 0.915254 0.91362256\n",
      "    SALT     (time) float64 0.1057 0.1706 0.1815 0.1501 ... 0.1274 0.1236 0.1026}\n"
     ]
    }
   ],
   "source": [
    "# Now we can go with option (2). Computing skill across all references.\n",
    "# Automatically computes for all references a pearsonr ensemble mean.\n",
    "skill = dp.compute_skill()\n",
    "print(skill)"
   ]
  },
  {
   "cell_type": "code",
   "execution_count": 11,
   "metadata": {},
   "outputs": [
    {
     "name": "stdout",
     "output_type": "stream",
     "text": [
      "<xarray.Dataset>\n",
      "Dimensions:  (time: 10)\n",
      "Coordinates:\n",
      "    z_t      float32 500.0\n",
      "  * time     (time) int64 1 2 3 4 5 6 7 8 9 10\n",
      "Data variables:\n",
      "    SST      (time) float32 0.85391504 0.7564817 ... 0.7252849 0.7146723\n",
      "    SALT     (time) float64 0.03728 0.1329 0.1302 ... 0.1825 0.1909 0.1923\n"
     ]
    }
   ],
   "source": [
    "print(skill['FOSI'])"
   ]
  },
  {
   "cell_type": "code",
   "execution_count": 12,
   "metadata": {},
   "outputs": [
    {
     "name": "stdout",
     "output_type": "stream",
     "text": [
      "<xarray.Dataset>\n",
      "Dimensions:  (time: 10)\n",
      "Coordinates:\n",
      "  * time     (time) int64 1 2 3 4 5 6 7 8 9 10\n",
      "Data variables:\n",
      "    SST      (time) float32 0.92809033 0.8993258 ... 0.915254 0.91362256\n",
      "    SALT     (time) float64 0.1057 0.1706 0.1815 0.1501 ... 0.1274 0.1236 0.1026\n"
     ]
    }
   ],
   "source": [
    "print(skill['ERSST'])"
   ]
  },
  {
   "cell_type": "markdown",
   "metadata": {},
   "source": [
    "We can also compute a persistence forecast. This automatically only computes persistence for the references."
   ]
  },
  {
   "cell_type": "code",
   "execution_count": 13,
   "metadata": {},
   "outputs": [],
   "source": [
    "# Persistence for both FOSI and data, but only out to 8 lags.\n",
    "persist = dp.compute_persistence(nlags=8)"
   ]
  },
  {
   "cell_type": "code",
   "execution_count": 14,
   "metadata": {},
   "outputs": [
    {
     "name": "stdout",
     "output_type": "stream",
     "text": [
      "<xarray.Dataset>\n",
      "Dimensions:  (time: 8)\n",
      "Coordinates:\n",
      "    z_t      float32 500.0\n",
      "  * time     (time) int64 1 2 3 4 5 6 7 8\n",
      "Data variables:\n",
      "    SST      (time) float32 0.7159944 0.5045179 ... 0.51417434 0.53100085\n",
      "    SALT     (time) float64 0.1156 -0.1173 -0.06503 ... 0.1443 0.06252 -0.1486\n"
     ]
    }
   ],
   "source": [
    "print(persist['FOSI'])"
   ]
  },
  {
   "cell_type": "code",
   "execution_count": 15,
   "metadata": {},
   "outputs": [
    {
     "name": "stdout",
     "output_type": "stream",
     "text": [
      "<xarray.Dataset>\n",
      "Dimensions:  (time: 8)\n",
      "Coordinates:\n",
      "  * time     (time) int64 1 2 3 4 5 6 7 8\n",
      "Data variables:\n",
      "    SST      (time) float32 0.91231585 0.83529794 ... 0.8397366 0.84347546\n",
      "    SALT     (time) float64 0.03623 -0.2912 0.04725 ... -0.1009 -0.01364\n"
     ]
    }
   ],
   "source": [
    "print(persist['ERSST'])"
   ]
  },
  {
   "cell_type": "markdown",
   "metadata": {},
   "source": [
    "## Plots from our Results"
   ]
  },
  {
   "cell_type": "code",
   "execution_count": 18,
   "metadata": {},
   "outputs": [
    {
     "data": {
      "text/plain": [
       "<matplotlib.legend.Legend at 0x1c29c66550>"
      ]
     },
     "execution_count": 18,
     "metadata": {},
     "output_type": "execute_result"
    },
    {
     "data": {
      "image/png": "[encoded data removed]",
      "text/plain": [
       "<Figure size 430.83x215.81 with 2 Axes>"
      ]
     },
     "metadata": {
      "image/png": {
       "height": 215,
       "width": 430
      }
     },
     "output_type": "display_data"
    }
   ],
   "source": [
    "plot.rc.small = 11\n",
    "plot.rc.large = 13\n",
    "varname = 'SST'\n",
    "\n",
    "f, ax = plot.subplots(aspect=3, axwidth='10cm',\n",
    "                      bottomlegend=True)\n",
    "    \n",
    "p1, = ax.plot(persist['FOSI'].time, persist['FOSI'][varname],\n",
    "        '-ok', markersize=6, label='persistence forecast')\n",
    "p2, = ax.plot(skill['FOSI'].time, skill['FOSI'][varname],\n",
    "        '-or', markersize=6, label='initialized forecast')\n",
    "\n",
    "ax.format(ylim=[0, 1], xlim=[0.5, 10.5], xlabel='lead year',\n",
    "          ylabel='anomaly correlation \\n coefficient',\n",
    "          title='Trended Global SST Forecast')\n",
    "\n",
    "f.bottompanel.legend([p1, p2])"
   ]
  },
  {
   "cell_type": "markdown",
   "metadata": {},
   "source": [
    "# Perfect Model Ensemble"
   ]
  },
  {
   "cell_type": "code",
   "execution_count": 19,
   "metadata": {},
   "outputs": [],
   "source": [
    "# todo"
   ]
  }
 ],
 "metadata": {
  "kernelspec": {
   "display_name": "Python 3",
   "language": "python",
   "name": "python3"
  },
  "language_info": {
   "codemirror_mode": {
    "name": "ipython",
    "version": 3
   },
   "file_extension": ".py",
   "mimetype": "text/x-python",
   "name": "python",
   "nbconvert_exporter": "python",
   "pygments_lexer": "ipython3",
   "version": "3.6.6"
  },
  "toc": {
   "base_numbering": 1,
   "nav_menu": {},
   "number_sections": true,
   "sideBar": true,
   "skip_h1_title": false,
   "title_cell": "Table of Contents",
   "title_sidebar": "Contents",
   "toc_cell": false,
   "toc_position": {},
   "toc_section_display": true,
   "toc_window_display": false
  },
  "varInspector": {
   "cols": {
    "lenName": 16,
    "lenType": 16,
    "lenVar": 40
   },
   "kernels_config": {
    "python": {
     "delete_cmd_postfix": "",
     "delete_cmd_prefix": "del ",
     "library": "var_list.py",
     "varRefreshCmd": "print(var_dic_list())"
    },
    "r": {
     "delete_cmd_postfix": ") ",
     "delete_cmd_prefix": "rm(",
     "library": "var_list.r",
     "varRefreshCmd": "cat(var_dic_list()) "
    }
   },
   "types_to_exclude": [
    "module",
    "function",
    "builtin_function_or_method",
    "instance",
    "_Feature"
   ],
   "window_display": false
  }
 },
 "nbformat": 4,
 "nbformat_minor": 2
}
